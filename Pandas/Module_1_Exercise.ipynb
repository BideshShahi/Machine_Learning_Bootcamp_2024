{
 "cells": [
  {
   "cell_type": "markdown",
   "metadata": {},
   "source": [
    "### **Exercise 1: Series Creation and Operations**\n",
    "1. Create a Pandas **Series** from the following list: `[10, 20, 30, 40, 50]`.\n",
    "2. Assign custom index labels: `['a', 'b', 'c', 'd', 'e']` to this Series.\n",
    "3. Access the value associated with index `'c'`.\n",
    "4. Filter out the values greater than 25 from the Series.\n",
    "\n",
    "---"
   ]
  },
  {
   "cell_type": "markdown",
   "metadata": {},
   "source": [
    "Solutions"
   ]
  },
  {
   "cell_type": "code",
   "execution_count": 8,
   "metadata": {},
   "outputs": [
    {
     "name": "stdout",
     "output_type": "stream",
     "text": [
      "Simple list:\n",
      " 0    10\n",
      "1    20\n",
      "2    30\n",
      "3    40\n",
      "4    50\n",
      "dtype: int64\n"
     ]
    }
   ],
   "source": [
    "import pandas as pd\n",
    "\n",
    "# Create a Pandas Series from list:\n",
    "series = pd.Series([10, 20, 30, 40, 50])\n",
    "print(\"Simple list:\\n\", series)"
   ]
  },
  {
   "cell_type": "code",
   "execution_count": 10,
   "metadata": {},
   "outputs": [
    {
     "name": "stdout",
     "output_type": "stream",
     "text": [
      "Series with custom index:\n",
      " a    10\n",
      "b    20\n",
      "c    30\n",
      "d    40\n",
      "e    50\n",
      "dtype: int64\n"
     ]
    }
   ],
   "source": [
    "# Assign custom index labels: ['a', 'b', 'c', 'd', 'e'] to this Series.\n",
    "series.index = ['a', 'b', 'c', 'd', 'e']\n",
    "print(\"Series with custom index:\\n\", series)"
   ]
  },
  {
   "cell_type": "code",
   "execution_count": 11,
   "metadata": {},
   "outputs": [
    {
     "name": "stdout",
     "output_type": "stream",
     "text": [
      "Value at index 'c': 30\n"
     ]
    }
   ],
   "source": [
    "# Access the value associated with index 'c'.\n",
    "value_c = series['c']\n",
    "print(\"Value at index 'c':\", value_c)"
   ]
  },
  {
   "cell_type": "code",
   "execution_count": 14,
   "metadata": {},
   "outputs": [
    {
     "name": "stdout",
     "output_type": "stream",
     "text": [
      "Val;ues greater than 25:\n",
      " c    30\n",
      "d    40\n",
      "e    50\n",
      "dtype: int64\n"
     ]
    }
   ],
   "source": [
    "# Filter out the values greater than 25 from the Series.\n",
    "filtered_s = series[series > 25]\n",
    "print(\"Val;ues greater than 25:\\n\", filtered_s)"
   ]
  },
  {
   "cell_type": "markdown",
   "metadata": {},
   "source": [
    "### **Exercise 2: Creating a DataFrame**\n",
    "1. Create a DataFrame with the following data:\n",
    "    - `Name`: ['John', 'Sara', 'Tom', 'Lucy']\n",
    "    - `Age`: [23, 29, 22, 30]\n",
    "    - `City`: ['New York', 'Los Angeles', 'Chicago', 'Houston']\n",
    "2. Display the DataFrame.\n",
    "3. Print the `Name` and `Age` columns only.\n",
    "4. Add a new column `Salary` with values `[50000, 60000, 55000, 70000]`.\n",
    "5. Remove the `City` column from the DataFrame.\n",
    "\n",
    "---"
   ]
  },
  {
   "cell_type": "markdown",
   "metadata": {},
   "source": [
    "Solutions"
   ]
  },
  {
   "cell_type": "code",
   "execution_count": 7,
   "metadata": {},
   "outputs": [],
   "source": [
    "import pandas as pd\n",
    "# 1. Create a DataFrame\n",
    "data = {'Name': ['John', 'Sara', 'Tom', 'Lucy'],\n",
    "        'Age': [23, 29, 22, 30],\n",
    "        'City': ['New York', 'Los Angeles', 'Chicago', 'Houston']}\n",
    "df = pd.DataFrame(data)"
   ]
  },
  {
   "cell_type": "code",
   "execution_count": 8,
   "metadata": {},
   "outputs": [
    {
     "name": "stdout",
     "output_type": "stream",
     "text": [
      "Original DataFrame:\n",
      "    Name  Age         City\n",
      "0  John   23     New York\n",
      "1  Sara   29  Los Angeles\n",
      "2   Tom   22      Chicago\n",
      "3  Lucy   30      Houston\n"
     ]
    }
   ],
   "source": [
    "# 2. Display the DataFrame\n",
    "print(\"Original DataFrame:\\n\", df)"
   ]
  },
  {
   "cell_type": "code",
   "execution_count": 9,
   "metadata": {},
   "outputs": [
    {
     "name": "stdout",
     "output_type": "stream",
     "text": [
      "\n",
      "Name and Age columns:\n",
      "    Name  Age\n",
      "0  John   23\n",
      "1  Sara   29\n",
      "2   Tom   22\n",
      "3  Lucy   30\n"
     ]
    }
   ],
   "source": [
    "# 3. Print the 'Name' and 'Age' columns only\n",
    "print(\"\\nName and Age columns:\\n\", df[['Name', 'Age']])"
   ]
  },
  {
   "cell_type": "code",
   "execution_count": 10,
   "metadata": {},
   "outputs": [
    {
     "name": "stdout",
     "output_type": "stream",
     "text": [
      "\n",
      "DataFrame after adding 'Salary' column:\n",
      "    Name  Age         City  Salary\n",
      "0  John   23     New York   50000\n",
      "1  Sara   29  Los Angeles   60000\n",
      "2   Tom   22      Chicago   55000\n",
      "3  Lucy   30      Houston   70000\n"
     ]
    }
   ],
   "source": [
    "# 4. Add a new column 'Salary'\n",
    "df['Salary'] = [50000, 60000, 55000, 70000]\n",
    "print(\"\\nDataFrame after adding 'Salary' column:\\n\", df)"
   ]
  },
  {
   "cell_type": "code",
   "execution_count": 11,
   "metadata": {},
   "outputs": [
    {
     "name": "stdout",
     "output_type": "stream",
     "text": [
      "\n",
      "DataFrame after dropping 'City' column:\n",
      "    Name  Age  Salary\n",
      "0  John   23   50000\n",
      "1  Sara   29   60000\n",
      "2   Tom   22   55000\n",
      "3  Lucy   30   70000\n"
     ]
    }
   ],
   "source": [
    "# 5. Remove the 'City' column\n",
    "df = df.drop(columns=['City'])\n",
    "print(\"\\nDataFrame after dropping 'City' column:\\n\", df)"
   ]
  },
  {
   "cell_type": "markdown",
   "metadata": {},
   "source": [
    "### **Exercise 3: Loading Data and Inspecting**\n",
    "1. Load the provided dataset (`dirty_data.csv`) using Pandas.\n",
    "2. Display the first 5 rows of the dataset.\n",
    "3. Print the structure of the DataFrame (column names, non-null counts, data types).\n",
    "4. Get the summary statistics of the numeric columns in the dataset.\n",
    "5. Check the shape of the dataset.\n",
    "\n",
    "---"
   ]
  },
  {
   "cell_type": "markdown",
   "metadata": {},
   "source": [
    "Solutions"
   ]
  },
  {
   "cell_type": "code",
   "execution_count": 12,
   "metadata": {},
   "outputs": [],
   "source": [
    "# 1. Load the dataset into a DataFrame\n",
    "url = 'https://raw.githubusercontent.com/siddhantbhattarai/Machine_Learning_Bootcamp_2024/refs/heads/main/Pandas/Data_Cleaning/dirty_data.csv'\n",
    "df = pd.read_csv(url)"
   ]
  },
  {
   "cell_type": "code",
   "execution_count": 13,
   "metadata": {},
   "outputs": [
    {
     "name": "stdout",
     "output_type": "stream",
     "text": [
      "First 5 rows of the dataset:\n",
      "                Name   Age           City   Join_Date     Salary  Gender\n",
      "0  Savannah Patrick  21.0  san francisco  2024-02-04  9999999.0    Male\n",
      "1    Jessica Ramsey  32.0             SF  15/03/2022  9999999.0  Female\n",
      "2       Jacob White  70.0             LA  2019-11-03        NaN  female\n",
      "3        Erik Ortiz  62.0  San Francisco  2020-06-14       10.0    male\n",
      "4      Tonya Dudley  42.0             LA  2023-07-21  2000000.0  Female\n"
     ]
    }
   ],
   "source": [
    "# 2. Display the first 5 rows\n",
    "print(\"First 5 rows of the dataset:\\n\", df.head())"
   ]
  },
  {
   "cell_type": "code",
   "execution_count": 14,
   "metadata": {},
   "outputs": [
    {
     "name": "stdout",
     "output_type": "stream",
     "text": [
      "\n",
      "Structure of the DataFrame:\n",
      "\n",
      "<class 'pandas.core.frame.DataFrame'>\n",
      "RangeIndex: 10100 entries, 0 to 10099\n",
      "Data columns (total 6 columns):\n",
      " #   Column     Non-Null Count  Dtype  \n",
      "---  ------     --------------  -----  \n",
      " 0   Name       9077 non-null   object \n",
      " 1   Age        9067 non-null   float64\n",
      " 2   City       10100 non-null  object \n",
      " 3   Join_Date  9102 non-null   object \n",
      " 4   Salary     7814 non-null   float64\n",
      " 5   Gender     8853 non-null   object \n",
      "dtypes: float64(2), object(4)\n",
      "memory usage: 473.6+ KB\n"
     ]
    }
   ],
   "source": [
    "# 3. Print the structure of the DataFrame\n",
    "print(\"\\nStructure of the DataFrame:\\n\")\n",
    "df.info()"
   ]
  },
  {
   "cell_type": "code",
   "execution_count": 15,
   "metadata": {},
   "outputs": [
    {
     "name": "stdout",
     "output_type": "stream",
     "text": [
      "\n",
      "Summary statistics of numeric columns:\n",
      "                Age        Salary\n",
      "count  9067.000000  7.814000e+03\n",
      "mean     43.918275  3.471742e+06\n",
      "std      15.406788  4.201636e+06\n",
      "min      18.000000  1.000000e+01\n",
      "25%      30.000000  1.000000e+01\n",
      "50%      44.000000  2.000000e+06\n",
      "75%      57.000000  9.999999e+06\n",
      "max      70.000000  9.999999e+06\n"
     ]
    }
   ],
   "source": [
    "# 4. Get summary statistics of the numeric columns\n",
    "print(\"\\nSummary statistics of numeric columns:\\n\", df.describe())"
   ]
  },
  {
   "cell_type": "code",
   "execution_count": 16,
   "metadata": {},
   "outputs": [
    {
     "name": "stdout",
     "output_type": "stream",
     "text": [
      "\n",
      "Shape of the DataFrame: (10100, 6)\n"
     ]
    }
   ],
   "source": [
    "# 5. Check the shape of the dataset\n",
    "print(\"\\nShape of the DataFrame:\", df.shape)"
   ]
  },
  {
   "cell_type": "markdown",
   "metadata": {},
   "source": [
    "### **Exercise 4: Indexing and Selecting Data**\n",
    "1. Select and print the rows with index labels 2 and 4 from the following DataFrame:\n",
    "   ```python\n",
    "   data = {'Product': ['A', 'B', 'C', 'D', 'E'], 'Price': [100, 150, 200, 250, 300]}\n",
    "   df = pd.DataFrame(data)\n",
    "   ```\n",
    "2. Use `.iloc[]` to select the first three rows and first two columns.\n",
    "3. Use `.loc[]` to select the rows where `Price` is greater than 200.\n",
    "\n",
    "---"
   ]
  },
  {
   "cell_type": "markdown",
   "metadata": {},
   "source": [
    "Solutions"
   ]
  },
  {
   "cell_type": "code",
   "execution_count": 17,
   "metadata": {},
   "outputs": [],
   "source": [
    "# Given DataFrame\n",
    "data = {'Product': ['A', 'B', 'C', 'D', 'E'], 'Price': [100, 150, 200, 250, 300]}\n",
    "df = pd.DataFrame(data)"
   ]
  },
  {
   "cell_type": "code",
   "execution_count": 18,
   "metadata": {},
   "outputs": [
    {
     "name": "stdout",
     "output_type": "stream",
     "text": [
      "Rows with index labels 2 and 4:\n",
      "   Product  Price\n",
      "2       C    200\n",
      "4       E    300\n"
     ]
    }
   ],
   "source": [
    "# 1. Select and print the rows with index labels 2 and 4\n",
    "rows_selected = df.loc[[2, 4]]\n",
    "print(\"Rows with index labels 2 and 4:\\n\", rows_selected)"
   ]
  },
  {
   "cell_type": "code",
   "execution_count": 19,
   "metadata": {},
   "outputs": [
    {
     "name": "stdout",
     "output_type": "stream",
     "text": [
      "\n",
      "First three rows and first two columns using .iloc[]:\n",
      "   Product  Price\n",
      "0       A    100\n",
      "1       B    150\n",
      "2       C    200\n"
     ]
    }
   ],
   "source": [
    "# 2. Use .iloc[] to select the first three rows and first two columns\n",
    "subset_iloc = df.iloc[0:3, 0:2]\n",
    "print(\"\\nFirst three rows and first two columns using .iloc[]:\\n\", subset_iloc)"
   ]
  },
  {
   "cell_type": "code",
   "execution_count": 20,
   "metadata": {},
   "outputs": [
    {
     "name": "stdout",
     "output_type": "stream",
     "text": [
      "\n",
      "Rows where Price > 200 using .loc[]:\n",
      "   Product  Price\n",
      "3       D    250\n",
      "4       E    300\n"
     ]
    }
   ],
   "source": [
    "# 3. Use .loc[] to select the rows where Price is greater than 200\n",
    "subset_loc = df.loc[df['Price'] > 200]\n",
    "print(\"\\nRows where Price > 200 using .loc[]:\\n\", subset_loc)"
   ]
  },
  {
   "cell_type": "markdown",
   "metadata": {},
   "source": [
    "### **Exercise 5: Slicing Data**\n",
    "1. Create the following DataFrame:\n",
    "   ```python\n",
    "   data = {'Name': ['Anna', 'Ben', 'Charlie', 'David', 'Eva'],\n",
    "           'Age': [28, 24, 35, 30, 29],\n",
    "           'City': ['Seattle', 'Austin', 'New York', 'Boston', 'Denver']}\n",
    "   df = pd.DataFrame(data)\n",
    "   ```\n",
    "2. Use slicing to select the first three rows.\n",
    "3. Use slicing to select the last two columns of all rows.\n",
    "4. Use slicing to select rows 2 to 4 and columns `Name` and `City`.\n",
    "\n",
    "---"
   ]
  },
  {
   "cell_type": "markdown",
   "metadata": {},
   "source": [
    "Solutions"
   ]
  },
  {
   "cell_type": "code",
   "execution_count": 21,
   "metadata": {},
   "outputs": [],
   "source": [
    "# Given DataFrame\n",
    "data = {'Name': ['Anna', 'Ben', 'Charlie', 'David', 'Eva'],\n",
    "        'Age': [28, 24, 35, 30, 29],\n",
    "        'City': ['Seattle', 'Austin', 'New York', 'Boston', 'Denver']}\n",
    "df = pd.DataFrame(data)"
   ]
  },
  {
   "cell_type": "code",
   "execution_count": 22,
   "metadata": {},
   "outputs": [
    {
     "name": "stdout",
     "output_type": "stream",
     "text": [
      "First three rows:\n",
      "       Name  Age      City\n",
      "0     Anna   28   Seattle\n",
      "1      Ben   24    Austin\n",
      "2  Charlie   35  New York\n"
     ]
    }
   ],
   "source": [
    "# 2. Use slicing to select the first three rows\n",
    "first_three_rows = df.iloc[0:3]\n",
    "print(\"First three rows:\\n\", first_three_rows)"
   ]
  },
  {
   "cell_type": "code",
   "execution_count": 23,
   "metadata": {},
   "outputs": [
    {
     "name": "stdout",
     "output_type": "stream",
     "text": [
      "\n",
      "Last two columns of all rows:\n",
      "    Age      City\n",
      "0   28   Seattle\n",
      "1   24    Austin\n",
      "2   35  New York\n",
      "3   30    Boston\n",
      "4   29    Denver\n"
     ]
    }
   ],
   "source": [
    "# 3. Use slicing to select the last two columns of all rows\n",
    "last_two_columns = df.iloc[:, 1:3]\n",
    "print(\"\\nLast two columns of all rows:\\n\", last_two_columns)"
   ]
  },
  {
   "cell_type": "code",
   "execution_count": 24,
   "metadata": {},
   "outputs": [
    {
     "name": "stdout",
     "output_type": "stream",
     "text": [
      "\n",
      "Rows 2 to 4 and columns 'Name' and 'City':\n",
      "       Name      City\n",
      "2  Charlie  New York\n",
      "3    David    Boston\n",
      "4      Eva    Denver\n"
     ]
    }
   ],
   "source": [
    "# 4. Use slicing to select rows 2 to 4 and columns 'Name' and 'City'\n",
    "subset_slicing = df.loc[2:4, ['Name', 'City']]\n",
    "print(\"\\nRows 2 to 4 and columns 'Name' and 'City':\\n\", subset_slicing)"
   ]
  }
 ],
 "metadata": {
  "kernelspec": {
   "display_name": "Python 3 (ipykernel)",
   "language": "python",
   "name": "python3"
  },
  "language_info": {
   "codemirror_mode": {
    "name": "ipython",
    "version": 3
   },
   "file_extension": ".py",
   "mimetype": "text/x-python",
   "name": "python",
   "nbconvert_exporter": "python",
   "pygments_lexer": "ipython3",
   "version": "3.11.9"
  }
 },
 "nbformat": 4,
 "nbformat_minor": 4
}
