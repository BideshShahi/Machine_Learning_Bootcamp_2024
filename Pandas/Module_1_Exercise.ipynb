{
 "cells": [
  {
   "cell_type": "markdown",
   "metadata": {},
   "source": [
    "### **Exercise 1: Series Creation and Operations**\n",
    "1. Create a Pandas **Series** from the following list: `[10, 20, 30, 40, 50]`.\n",
    "2. Assign custom index labels: `['a', 'b', 'c', 'd', 'e']` to this Series.\n",
    "3. Access the value associated with index `'c'`.\n",
    "4. Filter out the values greater than 25 from the Series.\n",
    "\n",
    "---"
   ]
  },
  {
   "cell_type": "markdown",
   "metadata": {},
   "source": [
    "Solution"
   ]
  },
  {
   "cell_type": "code",
   "execution_count": null,
   "metadata": {},
   "outputs": [],
   "source": []
  },
  {
   "cell_type": "markdown",
   "metadata": {},
   "source": [
    "### **Exercise 2: Creating a DataFrame**\n",
    "1. Create a DataFrame with the following data:\n",
    "    - `Name`: ['John', 'Sara', 'Tom', 'Lucy']\n",
    "    - `Age`: [23, 29, 22, 30]\n",
    "    - `City`: ['New York', 'Los Angeles', 'Chicago', 'Houston']\n",
    "2. Display the DataFrame.\n",
    "3. Print the `Name` and `Age` columns only.\n",
    "4. Add a new column `Salary` with values `[50000, 60000, 55000, 70000]`.\n",
    "5. Remove the `City` column from the DataFrame.\n",
    "\n",
    "---"
   ]
  },
  {
   "cell_type": "markdown",
   "metadata": {},
   "source": [
    "Solution"
   ]
  },
  {
   "cell_type": "code",
   "execution_count": null,
   "metadata": {},
   "outputs": [],
   "source": []
  },
  {
   "cell_type": "markdown",
   "metadata": {},
   "source": [
    "### **Exercise 3: Loading Data and Inspecting**\n",
    "1. Load the provided dataset (`food_coded.csv`) using Pandas.\n",
    "2. Display the first 5 rows of the dataset.\n",
    "3. Print the structure of the DataFrame (column names, non-null counts, data types).\n",
    "4. Get the summary statistics of the numeric columns in the dataset.\n",
    "5. Check the shape of the dataset.\n",
    "\n",
    "---"
   ]
  },
  {
   "cell_type": "code",
   "execution_count": null,
   "metadata": {},
   "outputs": [],
   "source": []
  },
  {
   "cell_type": "markdown",
   "metadata": {},
   "source": [
    "### **Exercise 4: Indexing and Selecting Data**\n",
    "1. Select and print the rows with index labels 2 and 4 from the following DataFrame:\n",
    "   ```python\n",
    "   data = {'Product': ['A', 'B', 'C', 'D', 'E'], 'Price': [100, 150, 200, 250, 300]}\n",
    "   df = pd.DataFrame(data)\n",
    "   ```\n",
    "2. Use `.iloc[]` to select the first three rows and first two columns.\n",
    "3. Use `.loc[]` to select the rows where `Price` is greater than 200.\n",
    "\n",
    "---"
   ]
  },
  {
   "cell_type": "markdown",
   "metadata": {},
   "source": [
    "Solution"
   ]
  },
  {
   "cell_type": "code",
   "execution_count": null,
   "metadata": {},
   "outputs": [],
   "source": []
  },
  {
   "cell_type": "markdown",
   "metadata": {},
   "source": [
    "### **Exercise 5: Slicing Data**\n",
    "1. Create the following DataFrame:\n",
    "   ```python\n",
    "   data = {'Name': ['Anna', 'Ben', 'Charlie', 'David', 'Eva'],\n",
    "           'Age': [28, 24, 35, 30, 29],\n",
    "           'City': ['Seattle', 'Austin', 'New York', 'Boston', 'Denver']}\n",
    "   df = pd.DataFrame(data)\n",
    "   ```\n",
    "2. Use slicing to select the first three rows.\n",
    "3. Use slicing to select the last two columns of all rows.\n",
    "4. Use slicing to select rows 2 to 4 and columns `Name` and `City`.\n",
    "\n",
    "---"
   ]
  },
  {
   "cell_type": "markdown",
   "metadata": {},
   "source": [
    "Solution"
   ]
  },
  {
   "cell_type": "code",
   "execution_count": null,
   "metadata": {},
   "outputs": [],
   "source": []
  }
 ],
 "metadata": {
  "kernelspec": {
   "display_name": "ml_env",
   "language": "python",
   "name": "python3"
  },
  "language_info": {
   "codemirror_mode": {
    "name": "ipython",
    "version": 3
   },
   "file_extension": ".py",
   "mimetype": "text/x-python",
   "name": "python",
   "nbconvert_exporter": "python",
   "pygments_lexer": "ipython3",
   "version": "3.11.9"
  }
 },
 "nbformat": 4,
 "nbformat_minor": 2
}
