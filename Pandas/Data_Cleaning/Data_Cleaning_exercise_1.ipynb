{
 "cells": [
  {
   "cell_type": "markdown",
   "metadata": {},
   "source": [
    "### **Summary of Cleaning Steps**:\n",
    "1. **Load the data** into Pandas.\n",
    "2. **Inspect the data** for structure, summary statistics, and missing values.\n",
    "3. **Check unique values** to spot inconsistencies in categorical columns.\n",
    "4. **Handle missing values** by filling or dropping them.\n",
    "5. **Fix inconsistent text data** by standardizing and correcting typos.\n",
    "6. **Remove outliers** from the numeric columns like `Salary`.\n",
    "7. **Standardize date formats** to ensure all dates are in the same format.\n",
    "8. **Remove duplicate rows** from the dataset.\n",
    "9. **Inspect the cleaned data** to verify your cleaning process was successful."
   ]
  },
  {
   "cell_type": "markdown",
   "metadata": {},
   "source": [
    "**Step 1: Load the Dataset**\n",
    "- First, load the dataset into Pandas so you can inspect it."
   ]
  },
  {
   "cell_type": "code",
   "execution_count": 3,
   "metadata": {},
   "outputs": [
    {
     "name": "stdout",
     "output_type": "stream",
     "text": [
      "               Name   Age           City   Join_Date     Salary  Gender\n",
      "0  Savannah Patrick  21.0  san francisco  2024-02-04  9999999.0    Male\n",
      "1    Jessica Ramsey  32.0             SF  15/03/2022  9999999.0  Female\n",
      "2       Jacob White  70.0             LA  2019-11-03        NaN  female\n",
      "3        Erik Ortiz  62.0  San Francisco  2020-06-14       10.0    male\n",
      "4      Tonya Dudley  42.0             LA  2023-07-21  2000000.0  Female\n"
     ]
    }
   ],
   "source": [
    "import pandas as pd\n",
    "\n",
    "# Load the dataset\n",
    "url = 'https://raw.githubusercontent.com/siddhantbhattarai/Machine_Learning_Bootcamp_2024/refs/heads/main/Pandas/Data_Cleaning/dirty_data.csv'\n",
    "df = pd.read_csv(url)\n",
    "\n",
    "# Look at the first few rows of the dataset\n",
    "print(df.head())"
   ]
  },
  {
   "cell_type": "markdown",
   "metadata": {},
   "source": [
    "**Step 2: Inspect the Data**\n",
    "- Before cleaning the data, you need to understand its structure."
   ]
  },
  {
   "cell_type": "code",
   "execution_count": 4,
   "metadata": {},
   "outputs": [
    {
     "name": "stdout",
     "output_type": "stream",
     "text": [
      "<class 'pandas.core.frame.DataFrame'>\n",
      "RangeIndex: 10100 entries, 0 to 10099\n",
      "Data columns (total 6 columns):\n",
      " #   Column     Non-Null Count  Dtype  \n",
      "---  ------     --------------  -----  \n",
      " 0   Name       9077 non-null   object \n",
      " 1   Age        9067 non-null   float64\n",
      " 2   City       10100 non-null  object \n",
      " 3   Join_Date  9102 non-null   object \n",
      " 4   Salary     7814 non-null   float64\n",
      " 5   Gender     8853 non-null   object \n",
      "dtypes: float64(2), object(4)\n",
      "memory usage: 473.6+ KB\n"
     ]
    }
   ],
   "source": [
    "# Check the structure of the dataset\n",
    "df.info()"
   ]
  },
  {
   "cell_type": "code",
   "execution_count": 5,
   "metadata": {},
   "outputs": [
    {
     "name": "stdout",
     "output_type": "stream",
     "text": [
      "Name         1023\n",
      "Age          1033\n",
      "City            0\n",
      "Join_Date     998\n",
      "Salary       2286\n",
      "Gender       1247\n",
      "dtype: int64\n"
     ]
    }
   ],
   "source": [
    "# Check for any missing values in each column\n",
    "print(df.isnull().sum())"
   ]
  },
  {
   "cell_type": "code",
   "execution_count": 6,
   "metadata": {},
   "outputs": [
    {
     "name": "stdout",
     "output_type": "stream",
     "text": [
      "               Age        Salary\n",
      "count  9067.000000  7.814000e+03\n",
      "mean     43.918275  3.471742e+06\n",
      "std      15.406788  4.201636e+06\n",
      "min      18.000000  1.000000e+01\n",
      "25%      30.000000  1.000000e+01\n",
      "50%      44.000000  2.000000e+06\n",
      "75%      57.000000  9.999999e+06\n",
      "max      70.000000  9.999999e+06\n"
     ]
    }
   ],
   "source": [
    "# Get summary statistics for numerical columns\n",
    "print(df.describe())"
   ]
  },
  {
   "cell_type": "markdown",
   "metadata": {},
   "source": [
    "**Step 3: Handle Missing Values**\n",
    "- You can either remove rows with missing values or fill them with a default value. Let's handle missing values for each column:\n",
    "\n",
    "A. Name Column (Missing Values)\n",
    "- Since `Name` is important, let's remove rows where the name is missing."
   ]
  },
  {
   "cell_type": "code",
   "execution_count": 7,
   "metadata": {},
   "outputs": [],
   "source": [
    "# Remove rows where 'Name' is missing\n",
    "df = df.dropna(subset=['Name'])"
   ]
  },
  {
   "cell_type": "markdown",
   "metadata": {},
   "source": [
    "B. Age Column (Missing Values)\n",
    "- For Age, you might want to fill missing values with the mean or median age."
   ]
  },
  {
   "cell_type": "code",
   "execution_count": 9,
   "metadata": {},
   "outputs": [],
   "source": [
    "# Fill missing 'Age' values with the median age\n",
    "df['Age'] = df['Age'].fillna(df['Age'].median())"
   ]
  },
  {
   "cell_type": "markdown",
   "metadata": {},
   "source": [
    "C. Salary Column (Missing Values)\n",
    "- For Salary, let's fill missing values with the median salary."
   ]
  },
  {
   "cell_type": "code",
   "execution_count": 10,
   "metadata": {},
   "outputs": [],
   "source": [
    "# Fill missing 'Salary' values with the median salary\n",
    "df['Salary'] = df['Salary'].fillna(df['Salary'].median())"
   ]
  },
  {
   "cell_type": "markdown",
   "metadata": {},
   "source": [
    "D. Join_Date Column (Missing Values)\n",
    "- If Join_Date is missing, we can either drop those rows or fill them with a default date."
   ]
  },
  {
   "cell_type": "code",
   "execution_count": 11,
   "metadata": {},
   "outputs": [],
   "source": [
    "# Fill missing 'Join_Date' with a default value (e.g., today's date)\n",
    "df['Join_Date'] = df['Join_Date'].fillna(pd.to_datetime('today'))"
   ]
  },
  {
   "cell_type": "code",
   "execution_count": 12,
   "metadata": {},
   "outputs": [
    {
     "data": {
      "text/html": [
       "<div>\n",
       "<style scoped>\n",
       "    .dataframe tbody tr th:only-of-type {\n",
       "        vertical-align: middle;\n",
       "    }\n",
       "\n",
       "    .dataframe tbody tr th {\n",
       "        vertical-align: top;\n",
       "    }\n",
       "\n",
       "    .dataframe thead th {\n",
       "        text-align: right;\n",
       "    }\n",
       "</style>\n",
       "<table border=\"1\" class=\"dataframe\">\n",
       "  <thead>\n",
       "    <tr style=\"text-align: right;\">\n",
       "      <th></th>\n",
       "      <th>Name</th>\n",
       "      <th>Age</th>\n",
       "      <th>City</th>\n",
       "      <th>Join_Date</th>\n",
       "      <th>Salary</th>\n",
       "      <th>Gender</th>\n",
       "    </tr>\n",
       "  </thead>\n",
       "  <tbody>\n",
       "    <tr>\n",
       "      <th>0</th>\n",
       "      <td>Savannah Patrick</td>\n",
       "      <td>21.0</td>\n",
       "      <td>san francisco</td>\n",
       "      <td>2024-02-04</td>\n",
       "      <td>9999999.0</td>\n",
       "      <td>Male</td>\n",
       "    </tr>\n",
       "    <tr>\n",
       "      <th>1</th>\n",
       "      <td>Jessica Ramsey</td>\n",
       "      <td>32.0</td>\n",
       "      <td>SF</td>\n",
       "      <td>15/03/2022</td>\n",
       "      <td>9999999.0</td>\n",
       "      <td>Female</td>\n",
       "    </tr>\n",
       "    <tr>\n",
       "      <th>2</th>\n",
       "      <td>Jacob White</td>\n",
       "      <td>70.0</td>\n",
       "      <td>LA</td>\n",
       "      <td>2019-11-03</td>\n",
       "      <td>2000000.0</td>\n",
       "      <td>female</td>\n",
       "    </tr>\n",
       "    <tr>\n",
       "      <th>3</th>\n",
       "      <td>Erik Ortiz</td>\n",
       "      <td>62.0</td>\n",
       "      <td>San Francisco</td>\n",
       "      <td>2020-06-14</td>\n",
       "      <td>10.0</td>\n",
       "      <td>male</td>\n",
       "    </tr>\n",
       "    <tr>\n",
       "      <th>4</th>\n",
       "      <td>Tonya Dudley</td>\n",
       "      <td>42.0</td>\n",
       "      <td>LA</td>\n",
       "      <td>2023-07-21</td>\n",
       "      <td>2000000.0</td>\n",
       "      <td>Female</td>\n",
       "    </tr>\n",
       "  </tbody>\n",
       "</table>\n",
       "</div>"
      ],
      "text/plain": [
       "               Name   Age           City   Join_Date     Salary  Gender\n",
       "0  Savannah Patrick  21.0  san francisco  2024-02-04  9999999.0    Male\n",
       "1    Jessica Ramsey  32.0             SF  15/03/2022  9999999.0  Female\n",
       "2       Jacob White  70.0             LA  2019-11-03  2000000.0  female\n",
       "3        Erik Ortiz  62.0  San Francisco  2020-06-14       10.0    male\n",
       "4      Tonya Dudley  42.0             LA  2023-07-21  2000000.0  Female"
      ]
     },
     "execution_count": 12,
     "metadata": {},
     "output_type": "execute_result"
    }
   ],
   "source": [
    "df.head()"
   ]
  },
  {
   "cell_type": "markdown",
   "metadata": {},
   "source": [
    "**Step 4: Fix Inconsistent Data**\n",
    "- Inconsistent data happens when the same information is represented in different ways (e.g., \"male\", \"Male\", \"Mmale\").\n",
    "\n",
    "A. Clean Gender Column\n",
    "- You can fix the gender column by standardizing it to either \"Male\" or \"Female\"."
   ]
  },
  {
   "cell_type": "code",
   "execution_count": 13,
   "metadata": {},
   "outputs": [],
   "source": [
    "# Convert everything to lowercase\n",
    "df['Gender'] = df['Gender'].str.lower()"
   ]
  },
  {
   "cell_type": "code",
   "execution_count": 14,
   "metadata": {},
   "outputs": [],
   "source": [
    "# Replace typos and fix the values\n",
    "df['Gender'] = df['Gender'].replace({\n",
    "    'mmale': 'male',\n",
    "    'femle': 'female',\n",
    "    'femlae': 'female'\n",
    "})\n",
    "\n",
    "# Fill any remaining missing values with 'unknown'\n",
    "df['Gender'] = df['Gender'].fillna('unknown')"
   ]
  },
  {
   "cell_type": "markdown",
   "metadata": {},
   "source": [
    "B. Clean City Column\n",
    "- Inconsistent city names (e.g., \"New York\", \"new york\", \"LA\") should be standardized."
   ]
  },
  {
   "cell_type": "code",
   "execution_count": 15,
   "metadata": {},
   "outputs": [],
   "source": [
    "# Standardize city names\n",
    "city_replacements = {\n",
    "    'new york': 'New York',\n",
    "    'LA': 'Los Angeles',\n",
    "    'SF': 'San Francisco',\n",
    "    'Los Angele': 'Los Angeles',\n",
    "    'san francisco': 'San Francisco'\n",
    "}\n",
    "\n",
    "df['City'] = df['City'].replace(city_replacements)"
   ]
  },
  {
   "cell_type": "markdown",
   "metadata": {},
   "source": [
    "**Step 5: Handle Outliers**\n",
    "- Outliers are extreme values that don't make sense. Let's handle the extreme salary values.\n",
    "\n",
    "A. Salary Column (Outliers)\n",
    "- Look for very high or very low salaries, and remove or cap them."
   ]
  },
  {
   "cell_type": "code",
   "execution_count": 16,
   "metadata": {},
   "outputs": [],
   "source": [
    "# Define the reasonable range for salaries\n",
    "df = df[df['Salary'] > 20000]  # Remove unrealistic low salaries\n",
    "df = df[df['Salary'] < 200000]  # Remove unrealistic high salaries"
   ]
  },
  {
   "cell_type": "markdown",
   "metadata": {},
   "source": [
    "**Step 6: Parse Dates**\n",
    "- Dates in the Join_Date column may have different formats, so let's convert them to a consistent datetime format."
   ]
  },
  {
   "cell_type": "code",
   "execution_count": 17,
   "metadata": {},
   "outputs": [],
   "source": [
    "# Convert the 'Join_Date' column to datetime format\n",
    "df['Join_Date'] = pd.to_datetime(df['Join_Date'], errors='coerce')"
   ]
  },
  {
   "cell_type": "code",
   "execution_count": 18,
   "metadata": {},
   "outputs": [
    {
     "name": "stdout",
     "output_type": "stream",
     "text": [
      "88\n"
     ]
    }
   ],
   "source": [
    "# Check if any invalid dates were converted to NaT (Not a Time)\n",
    "print(df['Join_Date'].isnull().sum())"
   ]
  },
  {
   "cell_type": "code",
   "execution_count": 19,
   "metadata": {},
   "outputs": [],
   "source": [
    "# Fill any remaining NaT values with a default date\n",
    "df['Join_Date'] = df['Join_Date'].fillna(pd.to_datetime('2000-01-01'))"
   ]
  },
  {
   "cell_type": "markdown",
   "metadata": {},
   "source": [
    "**Step 7: Remove Duplicates**\n",
    "- You might have some duplicated rows in the dataset. Let's remove them."
   ]
  },
  {
   "cell_type": "code",
   "execution_count": 25,
   "metadata": {},
   "outputs": [
    {
     "name": "stdout",
     "output_type": "stream",
     "text": [
      "Total number of duplicated rows: 5\n"
     ]
    }
   ],
   "source": [
    "# Check for duplicated rows and count them\n",
    "is_duplicated = df.duplicated().sum()\n",
    "\n",
    "print(f'Total number of duplicated rows: {is_duplicated}')"
   ]
  },
  {
   "cell_type": "code",
   "execution_count": 26,
   "metadata": {},
   "outputs": [],
   "source": [
    "# Remove duplicate rows\n",
    "df = df.drop_duplicates()"
   ]
  },
  {
   "cell_type": "markdown",
   "metadata": {},
   "source": [
    "**Step 9: Inspect the Cleaned Data**\n",
    "- Finally, inspect the cleaned dataset to make sure everything looks correct."
   ]
  },
  {
   "cell_type": "code",
   "execution_count": 28,
   "metadata": {},
   "outputs": [
    {
     "name": "stdout",
     "output_type": "stream",
     "text": [
      "<class 'pandas.core.frame.DataFrame'>\n",
      "Index: 532 entries, 5 to 10073\n",
      "Data columns (total 6 columns):\n",
      " #   Column     Non-Null Count  Dtype         \n",
      "---  ------     --------------  -----         \n",
      " 0   Name       532 non-null    object        \n",
      " 1   Age        532 non-null    float64       \n",
      " 2   City       532 non-null    object        \n",
      " 3   Join_Date  532 non-null    datetime64[ns]\n",
      " 4   Salary     532 non-null    float64       \n",
      " 5   Gender     532 non-null    object        \n",
      "dtypes: datetime64[ns](1), float64(2), object(3)\n",
      "memory usage: 29.1+ KB\n"
     ]
    }
   ],
   "source": [
    "# Check the structure and summary of the cleaned dataset\n",
    "df.info()"
   ]
  },
  {
   "cell_type": "code",
   "execution_count": 29,
   "metadata": {},
   "outputs": [
    {
     "name": "stdout",
     "output_type": "stream",
     "text": [
      "                Name   Age           City  Join_Date         Salary   Gender\n",
      "5    Danielle Ingram  56.0       New York 2020-08-21  173314.071782   female\n",
      "29    Amanda Hendrix  18.0    Los Angeles 2021-06-07   81495.406548     male\n",
      "73     Jacob Gardner  20.0       New York 2022-02-13   55726.338826  unknown\n",
      "108       Mark Ochoa  29.0  San Francisco 2024-01-11  199014.301988  unknown\n",
      "117     Carlos Bauer  51.0  San Francisco 2022-09-19   76552.655846   female\n"
     ]
    }
   ],
   "source": [
    "# Display the first few rows of the cleaned data\n",
    "print(df.head())"
   ]
  },
  {
   "cell_type": "code",
   "execution_count": 30,
   "metadata": {},
   "outputs": [
    {
     "name": "stdout",
     "output_type": "stream",
     "text": [
      "Name         0\n",
      "Age          0\n",
      "City         0\n",
      "Join_Date    0\n",
      "Salary       0\n",
      "Gender       0\n",
      "dtype: int64\n"
     ]
    }
   ],
   "source": [
    "# Check for any missing values in each column\n",
    "print(df.isnull().sum())"
   ]
  },
  {
   "cell_type": "code",
   "execution_count": 31,
   "metadata": {},
   "outputs": [
    {
     "name": "stdout",
     "output_type": "stream",
     "text": [
      "Total number of duplicated rows: 0\n"
     ]
    }
   ],
   "source": [
    "# Check for duplicated rows and count them\n",
    "is_duplicated = df.duplicated().sum()\n",
    "\n",
    "print(f'Total number of duplicated rows: {is_duplicated}')"
   ]
  },
  {
   "cell_type": "code",
   "execution_count": 32,
   "metadata": {},
   "outputs": [
    {
     "data": {
      "text/html": [
       "<div>\n",
       "<style scoped>\n",
       "    .dataframe tbody tr th:only-of-type {\n",
       "        vertical-align: middle;\n",
       "    }\n",
       "\n",
       "    .dataframe tbody tr th {\n",
       "        vertical-align: top;\n",
       "    }\n",
       "\n",
       "    .dataframe thead th {\n",
       "        text-align: right;\n",
       "    }\n",
       "</style>\n",
       "<table border=\"1\" class=\"dataframe\">\n",
       "  <thead>\n",
       "    <tr style=\"text-align: right;\">\n",
       "      <th></th>\n",
       "      <th>Name</th>\n",
       "      <th>Age</th>\n",
       "      <th>City</th>\n",
       "      <th>Join_Date</th>\n",
       "      <th>Salary</th>\n",
       "      <th>Gender</th>\n",
       "    </tr>\n",
       "  </thead>\n",
       "  <tbody>\n",
       "    <tr>\n",
       "      <th>5</th>\n",
       "      <td>Danielle Ingram</td>\n",
       "      <td>56.0</td>\n",
       "      <td>New York</td>\n",
       "      <td>2020-08-21</td>\n",
       "      <td>173314.071782</td>\n",
       "      <td>female</td>\n",
       "    </tr>\n",
       "    <tr>\n",
       "      <th>29</th>\n",
       "      <td>Amanda Hendrix</td>\n",
       "      <td>18.0</td>\n",
       "      <td>Los Angeles</td>\n",
       "      <td>2021-06-07</td>\n",
       "      <td>81495.406548</td>\n",
       "      <td>male</td>\n",
       "    </tr>\n",
       "    <tr>\n",
       "      <th>73</th>\n",
       "      <td>Jacob Gardner</td>\n",
       "      <td>20.0</td>\n",
       "      <td>New York</td>\n",
       "      <td>2022-02-13</td>\n",
       "      <td>55726.338826</td>\n",
       "      <td>unknown</td>\n",
       "    </tr>\n",
       "    <tr>\n",
       "      <th>108</th>\n",
       "      <td>Mark Ochoa</td>\n",
       "      <td>29.0</td>\n",
       "      <td>San Francisco</td>\n",
       "      <td>2024-01-11</td>\n",
       "      <td>199014.301988</td>\n",
       "      <td>unknown</td>\n",
       "    </tr>\n",
       "    <tr>\n",
       "      <th>117</th>\n",
       "      <td>Carlos Bauer</td>\n",
       "      <td>51.0</td>\n",
       "      <td>San Francisco</td>\n",
       "      <td>2022-09-19</td>\n",
       "      <td>76552.655846</td>\n",
       "      <td>female</td>\n",
       "    </tr>\n",
       "  </tbody>\n",
       "</table>\n",
       "</div>"
      ],
      "text/plain": [
       "                Name   Age           City  Join_Date         Salary   Gender\n",
       "5    Danielle Ingram  56.0       New York 2020-08-21  173314.071782   female\n",
       "29    Amanda Hendrix  18.0    Los Angeles 2021-06-07   81495.406548     male\n",
       "73     Jacob Gardner  20.0       New York 2022-02-13   55726.338826  unknown\n",
       "108       Mark Ochoa  29.0  San Francisco 2024-01-11  199014.301988  unknown\n",
       "117     Carlos Bauer  51.0  San Francisco 2022-09-19   76552.655846   female"
      ]
     },
     "execution_count": 32,
     "metadata": {},
     "output_type": "execute_result"
    }
   ],
   "source": [
    "df.head()"
   ]
  },
  {
   "cell_type": "code",
   "execution_count": null,
   "metadata": {},
   "outputs": [],
   "source": []
  }
 ],
 "metadata": {
  "kernelspec": {
   "display_name": "Python 3 (ipykernel)",
   "language": "python",
   "name": "python3"
  },
  "language_info": {
   "codemirror_mode": {
    "name": "ipython",
    "version": 3
   },
   "file_extension": ".py",
   "mimetype": "text/x-python",
   "name": "python",
   "nbconvert_exporter": "python",
   "pygments_lexer": "ipython3",
   "version": "3.11.9"
  }
 },
 "nbformat": 4,
 "nbformat_minor": 4
}
