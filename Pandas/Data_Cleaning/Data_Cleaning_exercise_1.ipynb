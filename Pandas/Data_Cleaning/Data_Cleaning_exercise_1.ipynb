{
 "cells": [
  {
   "cell_type": "markdown",
   "metadata": {},
   "source": [
    "### **Summary of Cleaning Steps**:\n",
    "1. **Load the data** into Pandas.\n",
    "2. **Inspect the data** for structure, summary statistics, and missing values.\n",
    "3. **Check unique values** to spot inconsistencies in categorical columns.\n",
    "4. **Handle missing values** by filling or dropping them.\n",
    "5. **Fix inconsistent text data** by standardizing and correcting typos.\n",
    "6. **Remove outliers** from the numeric columns like `Salary`.\n",
    "7. **Standardize date formats** to ensure all dates are in the same format.\n",
    "8. **Remove duplicate rows** from the dataset.\n",
    "9. **Inspect the cleaned data** to verify your cleaning process was successful."
   ]
  },
  {
   "cell_type": "markdown",
   "metadata": {},
   "source": [
    "**Step 1: Load the Dataset**\n",
    "- First, load the dataset into Pandas so you can inspect it."
   ]
  },
  {
   "cell_type": "code",
   "execution_count": 3,
   "metadata": {},
   "outputs": [
    {
     "name": "stdout",
     "output_type": "stream",
     "text": [
      "               Name   Age           City   Join_Date     Salary  Gender\n",
      "0  Savannah Patrick  21.0  san francisco  2024-02-04  9999999.0    Male\n",
      "1    Jessica Ramsey  32.0             SF  15/03/2022  9999999.0  Female\n",
      "2       Jacob White  70.0             LA  2019-11-03        NaN  female\n",
      "3        Erik Ortiz  62.0  San Francisco  2020-06-14       10.0    male\n",
      "4      Tonya Dudley  42.0             LA  2023-07-21  2000000.0  Female\n"
     ]
    }
   ],
   "source": [
    "import pandas as pd\n",
    "\n",
    "# Load the dataset\n",
    "url = 'https://raw.githubusercontent.com/siddhantbhattarai/Machine_Learning_Bootcamp_2024/refs/heads/main/Pandas/Data_Cleaning/dirty_data.csv'\n",
    "df = pd.read_csv(url)\n",
    "\n",
    "# Look at the first few rows of the dataset\n",
    "print(df.head())"
   ]
  },
  {
   "cell_type": "markdown",
   "metadata": {},
   "source": [
    "**Step 2: Inspect the Data**\n",
    "- Before cleaning the data, you need to understand its structure."
   ]
  },
  {
   "cell_type": "code",
   "execution_count": 4,
   "metadata": {},
   "outputs": [
    {
     "name": "stdout",
     "output_type": "stream",
     "text": [
      "<class 'pandas.core.frame.DataFrame'>\n",
      "RangeIndex: 10100 entries, 0 to 10099\n",
      "Data columns (total 6 columns):\n",
      " #   Column     Non-Null Count  Dtype  \n",
      "---  ------     --------------  -----  \n",
      " 0   Name       9077 non-null   object \n",
      " 1   Age        9067 non-null   float64\n",
      " 2   City       10100 non-null  object \n",
      " 3   Join_Date  9102 non-null   object \n",
      " 4   Salary     7814 non-null   float64\n",
      " 5   Gender     8853 non-null   object \n",
      "dtypes: float64(2), object(4)\n",
      "memory usage: 473.6+ KB\n"
     ]
    }
   ],
   "source": [
    "# Check the structure of the dataset\n",
    "df.info()"
   ]
  },
  {
   "cell_type": "code",
   "execution_count": 33,
   "metadata": {},
   "outputs": [
    {
     "name": "stdout",
     "output_type": "stream",
     "text": [
      "Unique values in 'Gender': ['female' 'male' 'unknown']\n"
     ]
    }
   ],
   "source": [
    "# Check unique values in the 'Gender' column\n",
    "print(\"Unique values in 'Gender':\", df['Gender'].unique())"
   ]
  },
  {
   "cell_type": "code",
   "execution_count": 34,
   "metadata": {},
   "outputs": [
    {
     "name": "stdout",
     "output_type": "stream",
     "text": [
      "Unique values in 'City': ['New York' 'Los Angeles' 'San Francisco']\n"
     ]
    }
   ],
   "source": [
    "# Check unique values in the 'City' column\n",
    "print(\"Unique values in 'City':\", df['City'].unique())"
   ]
  },
  {
   "cell_type": "code",
   "execution_count": 36,
   "metadata": {},
   "outputs": [
    {
     "name": "stdout",
     "output_type": "stream",
     "text": [
      "Unique values in 'Age': [56. 18. 20. 29. 51. 55. 46. 25. 49. 48. 23. 26. 44. 53. 35. 52. 69. 61.\n",
      " 36. 40. 41. 58. 59. 30. 28. 21. 62. 68. 33. 63. 27. 38. 45. 47. 31. 65.\n",
      " 50. 37. 54. 19. 64. 32. 67. 22. 34. 24. 66. 60. 39. 70. 43. 42. 57.]\n"
     ]
    }
   ],
   "source": [
    "# Check unique values in the 'Age' column\n",
    "print(\"Unique values in 'Age':\", df['Age'].unique())"
   ]
  },
  {
   "cell_type": "code",
   "execution_count": 37,
   "metadata": {},
   "outputs": [
    {
     "name": "stdout",
     "output_type": "stream",
     "text": [
      "Unique values in 'Salary': [173314.07178227  81495.40654824  55726.33882573 199014.30198763\n",
      "  76552.65584576  89896.50834987  71082.28300614  83976.06313335\n",
      " 137222.64128248 169592.74583585 173842.26571579 173960.51414453\n",
      " 113009.42752972 148776.32806803 146442.92794895  57893.90785747\n",
      " 162618.74033283 154485.98607858  90536.81895635 129803.82604539\n",
      " 192769.63174184 181452.22197981 164865.58280781 134759.15710204\n",
      " 112019.17779216 154132.10837113  57770.52333969 120943.03549679\n",
      " 105320.21159778  94300.60962554  76290.15147695 198645.67769726\n",
      "  76961.19739935 121726.76692404 122862.03789501  78988.40628727\n",
      "  82427.81856035 186276.92769749 138316.30618283  78741.75730467\n",
      " 174667.68164102 142066.82417717  76705.95213665  79611.19280337\n",
      " 176256.07248117  64639.05277132 174721.56005582 180312.76356623\n",
      " 125754.02399468 161147.0826596   64902.38535368  79650.09367284\n",
      " 171174.0363687  164152.06598728 145042.35474669  77383.86499116\n",
      " 183277.72098242 174612.25452609 190014.84813989  92329.81661242\n",
      " 107722.67553177 128448.1423176  102777.12653216  50525.39543487\n",
      " 160922.07863684 112264.88146142 114448.77806041  69633.56257972\n",
      " 107982.72436593 150334.6461854   81903.55396604 124124.10786333\n",
      "  98250.34646811  81970.66180417 173673.23225133 182586.07134134\n",
      " 173721.92998582 149024.43454199 189277.24071033 161516.99499602\n",
      " 142339.37777503  74701.05009578  98939.3831646   87262.68598423\n",
      " 159900.10614848 118451.39554306 139284.58975296 195269.25568185\n",
      " 181382.91052598  99378.05673918  93532.73281262 147256.62984095\n",
      " 140749.50306718  91311.83704078  79806.4528609  173954.36772665\n",
      " 197570.66095693 187136.31861814 163601.30193892  61533.30055306\n",
      " 123801.53810506 145347.73247792 125861.63737822 104629.64840996\n",
      " 151433.75055492 119713.5352606   84855.82336412  85603.39239281\n",
      " 176675.83285511 143397.69502084 125621.72354588  94009.02733448\n",
      "  75600.63701889  71740.09933101 172688.13002413  52476.7904534\n",
      "  77742.9539578  198896.72041539 178931.17280563 156958.14293729\n",
      "  57575.15313848 119559.71070417 110457.77826708 181732.26226264\n",
      "  92275.36823078  52200.92407376 191568.79285715 180510.77444507\n",
      " 120962.20201961  73684.57371827  53715.22438062 178694.26920432\n",
      " 196093.67493742 158651.07627448 145004.23332378 192268.8709032\n",
      " 110465.48202687 151423.07837865  86628.93343082 189671.22570495\n",
      "  68760.29124704 102168.61891742 174008.08670813 149236.21968965\n",
      "  79476.09898195 119087.48002776  71019.17236449  63151.52325634\n",
      " 121796.82595107 114762.08495466 156781.00387815 175468.10937307\n",
      " 110137.02093641 132413.86575536 100030.09706103 135632.78249392\n",
      " 194899.64966908 198689.7082014  187358.57333519 168548.9261815\n",
      "  60750.094975   100579.55159935  96487.34150803 114946.0760955\n",
      " 135962.91246216 112571.32703505  91754.07135078 180086.04072788\n",
      " 183571.4617332  149120.41596935  68150.99102001 173109.41943045\n",
      " 124949.52724599  54836.98624299 157122.25908817 158352.25677005\n",
      " 150881.0975175   97575.35104715 119471.21056522 161365.18397971\n",
      " 102298.33973368  96113.05028093  75171.10356184 120066.48737797\n",
      "  86289.28519502  86058.26714318  91381.26978984 170913.58881324\n",
      " 174457.00437249 101267.1244761  133067.25635464 139827.55063258\n",
      "  60508.21271755 133999.14681534  80638.11537898 108026.79596294\n",
      " 138893.95402996 175759.13258711 108000.06456936 114334.87807104\n",
      " 188963.18886915  85708.67408592 133875.88885983 114756.45537555\n",
      " 132474.72013456 178449.74449629  68770.72969937 189410.15149415\n",
      " 103141.34027963 191731.76365055  51932.91577477 163746.07026415\n",
      " 139298.60125823 143563.82989635  83659.00360766 190022.75166074\n",
      " 111733.05326786  74319.67758483 198029.58055311  84891.64640439\n",
      " 179219.28050471  74614.40976981 105071.99479947 128267.90243087\n",
      " 133566.85659332 145688.05712811  87773.66529975 145135.83873671\n",
      "  84885.0986299  151123.48692743 189629.75916537 116031.25569276\n",
      "  87156.39628286  96690.25917764  96729.2941716  148605.90322772\n",
      " 159272.49692102  73397.55544749 143420.7739001  147965.88384541\n",
      "  54750.97122774 140307.40317908 107633.98167666  66257.66385184\n",
      "  75451.78878869  70432.04503247 181073.11724253 197767.80591876\n",
      " 147193.38858754  79740.0737587  171460.49138575  70488.82609457\n",
      "  85110.08414     87139.47921579 106500.51934516 179128.59661032\n",
      " 106367.57117887  56895.66141724 150187.53184579 106769.06225198\n",
      " 185374.77195284 192245.71572399 127687.84148927 141869.64836212\n",
      " 147112.94434805 199433.16530638  67888.57807233 104117.40111301\n",
      " 107354.09565882 194396.08443948 121556.24571735 192893.40608502\n",
      " 165537.02880321 103389.67593534  59285.46627093 108475.90929584\n",
      "  88051.32890203 161321.29090997  96799.57914724 168780.20952484\n",
      "  72785.22421369 126272.97715896  59464.32728553  58109.16332723\n",
      "  85886.98620929  56427.76810418 124756.68110193 142511.76081855\n",
      " 167372.60550564  93556.7712439   63333.24570385 147773.72052765\n",
      " 131938.83090721  85522.18700186 175049.97202292  81820.45325989\n",
      "  81582.83908038 170736.20454385 117971.34207246 180749.19275905\n",
      "  51400.60728759 188687.79694779 180847.8431448  130732.33316511\n",
      " 183176.54238238  75997.11486409 196627.77167032  76138.61545482\n",
      " 113101.97527336 101084.39494668  87986.24069805 109223.43826159\n",
      " 154749.81289274  66426.67653176  98900.3379874  191503.73114509\n",
      "  91429.25065654 108026.14295688 126333.42119328 151043.76425019\n",
      " 179084.11354766 114735.87576403 124494.49222409  57503.21502663\n",
      " 104112.65301966  66682.62906295  72006.99538709 106417.91157042\n",
      " 169777.06833959 143215.82636588  66526.17054561  78427.6610071\n",
      "  99141.50353938 159807.21966934 182351.82091996 118325.73487958\n",
      " 134931.38106708 175118.04427948  88408.33344009  79978.35435678\n",
      "  73379.46778225  56690.54583389  53113.01214465 120490.45003985\n",
      "  72065.82782227  89863.41361671 167458.45334532 136238.43475448\n",
      " 172410.08666393 185599.89473911  84100.68754767 170004.6174624\n",
      "  78403.70062985 173820.88190174 161007.21582125 132132.37275576\n",
      " 149303.27848796 189014.69649682 181108.23144331 137675.78914965\n",
      "  50019.48643363  62897.72852932 197583.47715054 187534.28471792\n",
      "  95962.6794636  197404.62166642 145224.61018245 142432.98654917\n",
      " 181917.58508629  63362.31185126 163914.11203796 196395.21667591\n",
      " 121394.21942454 116295.3362277  141302.75582478 182968.33263396\n",
      "  66727.49361858 197977.24969059  92002.8326516  113366.16992336\n",
      "  85952.66631772 131842.9712135  112822.18181622 101086.93054687\n",
      " 118301.50681434  71009.85605703  53233.70557311 180489.38971798\n",
      " 186745.58472411 185218.50090047 188952.77742955 104793.87426602\n",
      " 182026.23015277 171411.35441556 139977.30918956  54321.5132325\n",
      "  77144.72212927 182702.36147157  72006.95904891 145796.30274076\n",
      " 191372.89462854 196300.27899095 138867.99987841  70349.162473\n",
      " 145829.10501337 187745.09275987 180303.89905063  60483.60730333\n",
      " 134148.63627816  84177.21621617 174412.76236094  99243.69536311\n",
      " 196053.35086031 131358.55969497  58177.14602235 109411.3435364\n",
      "  58848.93452494  70073.90248335  55673.50880635  79922.5899983\n",
      " 109664.06991112  70954.39524067 185751.78113453 152209.84644114\n",
      " 157912.89010804 120066.6557958  171453.37735048 108569.33060861\n",
      " 106968.44448784 116535.26832235  61624.86251346  83881.12584394\n",
      " 132975.38768298 124111.55835972 132437.79150139 135181.5291186\n",
      " 190045.66408933 111064.2083057  182803.90595472 190100.01143727\n",
      " 151800.57485002 160644.67233715 172544.67114667 156630.5727489\n",
      " 171262.4271996   76651.98859374  54964.85705241 177525.89125801\n",
      " 116166.21311368 177525.39186048  77086.52554981 147684.7906717\n",
      " 123807.68847082 100561.35291607 102241.56490341 121403.49001771\n",
      " 174793.18621607 148171.50684806  69765.85078974 104158.02638034\n",
      " 115862.09306694 132341.31394333  83131.45786416 136910.43791496\n",
      "  84486.78607144  52365.14274065 121967.38236607  58933.74990423\n",
      "  95027.72317504  50803.22585184 198847.34237733 180337.45069766\n",
      " 118299.27944786 141136.49406338 155184.48011322  85439.68294205\n",
      " 167940.69461681 137529.30436662 180762.78048749 104770.88542106\n",
      " 108415.32792859 158971.24676925  73352.62467306 151828.98409211\n",
      " 111075.13597865 191795.01286963 140835.23119222 161923.40505735\n",
      " 164018.94374803 133417.18911245 131594.16174446 192812.54298159\n",
      " 109188.6694876  152394.89422372 170006.79032969 197014.56777736\n",
      " 136945.15128731  67439.77082908  90504.30308147 106038.01868994\n",
      " 107027.58863567  56724.06744527  59018.74312289  53006.15926843\n",
      " 153724.22645475 196816.83384493  83679.07329133 129438.98464061\n",
      "  64721.96953913 174998.71164492 170554.66286679  52667.34414587\n",
      " 113691.42508183 190710.39927261 144434.39835748 130681.05044337\n",
      "  96504.82208726  92652.27532531 194703.80985777 150448.83456903\n",
      " 135708.25435249 112241.45466505  72569.10087893  72360.67191112\n",
      " 172505.59014638 127653.39398847 125590.85367903 137776.60582198\n",
      "  76012.27798425  72093.16417593 155496.13366457  72196.50143961]\n"
     ]
    }
   ],
   "source": [
    "# Check unique values in the 'Salary' column\n",
    "print(\"Unique values in 'Salary':\", df['Salary'].unique())"
   ]
  },
  {
   "cell_type": "code",
   "execution_count": 5,
   "metadata": {},
   "outputs": [
    {
     "name": "stdout",
     "output_type": "stream",
     "text": [
      "Name         1023\n",
      "Age          1033\n",
      "City            0\n",
      "Join_Date     998\n",
      "Salary       2286\n",
      "Gender       1247\n",
      "dtype: int64\n"
     ]
    }
   ],
   "source": [
    "# Check for any missing values in each column\n",
    "print(df.isnull().sum())"
   ]
  },
  {
   "cell_type": "code",
   "execution_count": 6,
   "metadata": {},
   "outputs": [
    {
     "name": "stdout",
     "output_type": "stream",
     "text": [
      "               Age        Salary\n",
      "count  9067.000000  7.814000e+03\n",
      "mean     43.918275  3.471742e+06\n",
      "std      15.406788  4.201636e+06\n",
      "min      18.000000  1.000000e+01\n",
      "25%      30.000000  1.000000e+01\n",
      "50%      44.000000  2.000000e+06\n",
      "75%      57.000000  9.999999e+06\n",
      "max      70.000000  9.999999e+06\n"
     ]
    }
   ],
   "source": [
    "# Get summary statistics for numerical columns\n",
    "print(df.describe())"
   ]
  },
  {
   "cell_type": "markdown",
   "metadata": {},
   "source": [
    "**Step 3: Handle Missing Values**\n",
    "- You can either remove rows with missing values or fill them with a default value. Let's handle missing values for each column:\n",
    "\n",
    "A. Name Column (Missing Values)\n",
    "- Since `Name` is important, let's remove rows where the name is missing."
   ]
  },
  {
   "cell_type": "code",
   "execution_count": 7,
   "metadata": {},
   "outputs": [],
   "source": [
    "# Remove rows where 'Name' is missing\n",
    "df = df.dropna(subset=['Name'])"
   ]
  },
  {
   "cell_type": "markdown",
   "metadata": {},
   "source": [
    "B. Age Column (Missing Values)\n",
    "- For Age, you might want to fill missing values with the mean or median age."
   ]
  },
  {
   "cell_type": "code",
   "execution_count": 9,
   "metadata": {},
   "outputs": [],
   "source": [
    "# Fill missing 'Age' values with the median age\n",
    "df['Age'] = df['Age'].fillna(df['Age'].median())"
   ]
  },
  {
   "cell_type": "markdown",
   "metadata": {},
   "source": [
    "C. Salary Column (Missing Values)\n",
    "- For Salary, let's fill missing values with the median salary."
   ]
  },
  {
   "cell_type": "code",
   "execution_count": 10,
   "metadata": {},
   "outputs": [],
   "source": [
    "# Fill missing 'Salary' values with the median salary\n",
    "df['Salary'] = df['Salary'].fillna(df['Salary'].median())"
   ]
  },
  {
   "cell_type": "markdown",
   "metadata": {},
   "source": [
    "D. Join_Date Column (Missing Values)\n",
    "- If Join_Date is missing, we can either drop those rows or fill them with a default date."
   ]
  },
  {
   "cell_type": "code",
   "execution_count": 11,
   "metadata": {},
   "outputs": [],
   "source": [
    "# Fill missing 'Join_Date' with a default value (e.g., today's date)\n",
    "df['Join_Date'] = df['Join_Date'].fillna(pd.to_datetime('today'))"
   ]
  },
  {
   "cell_type": "code",
   "execution_count": 12,
   "metadata": {},
   "outputs": [
    {
     "data": {
      "text/html": [
       "<div>\n",
       "<style scoped>\n",
       "    .dataframe tbody tr th:only-of-type {\n",
       "        vertical-align: middle;\n",
       "    }\n",
       "\n",
       "    .dataframe tbody tr th {\n",
       "        vertical-align: top;\n",
       "    }\n",
       "\n",
       "    .dataframe thead th {\n",
       "        text-align: right;\n",
       "    }\n",
       "</style>\n",
       "<table border=\"1\" class=\"dataframe\">\n",
       "  <thead>\n",
       "    <tr style=\"text-align: right;\">\n",
       "      <th></th>\n",
       "      <th>Name</th>\n",
       "      <th>Age</th>\n",
       "      <th>City</th>\n",
       "      <th>Join_Date</th>\n",
       "      <th>Salary</th>\n",
       "      <th>Gender</th>\n",
       "    </tr>\n",
       "  </thead>\n",
       "  <tbody>\n",
       "    <tr>\n",
       "      <th>0</th>\n",
       "      <td>Savannah Patrick</td>\n",
       "      <td>21.0</td>\n",
       "      <td>san francisco</td>\n",
       "      <td>2024-02-04</td>\n",
       "      <td>9999999.0</td>\n",
       "      <td>Male</td>\n",
       "    </tr>\n",
       "    <tr>\n",
       "      <th>1</th>\n",
       "      <td>Jessica Ramsey</td>\n",
       "      <td>32.0</td>\n",
       "      <td>SF</td>\n",
       "      <td>15/03/2022</td>\n",
       "      <td>9999999.0</td>\n",
       "      <td>Female</td>\n",
       "    </tr>\n",
       "    <tr>\n",
       "      <th>2</th>\n",
       "      <td>Jacob White</td>\n",
       "      <td>70.0</td>\n",
       "      <td>LA</td>\n",
       "      <td>2019-11-03</td>\n",
       "      <td>2000000.0</td>\n",
       "      <td>female</td>\n",
       "    </tr>\n",
       "    <tr>\n",
       "      <th>3</th>\n",
       "      <td>Erik Ortiz</td>\n",
       "      <td>62.0</td>\n",
       "      <td>San Francisco</td>\n",
       "      <td>2020-06-14</td>\n",
       "      <td>10.0</td>\n",
       "      <td>male</td>\n",
       "    </tr>\n",
       "    <tr>\n",
       "      <th>4</th>\n",
       "      <td>Tonya Dudley</td>\n",
       "      <td>42.0</td>\n",
       "      <td>LA</td>\n",
       "      <td>2023-07-21</td>\n",
       "      <td>2000000.0</td>\n",
       "      <td>Female</td>\n",
       "    </tr>\n",
       "  </tbody>\n",
       "</table>\n",
       "</div>"
      ],
      "text/plain": [
       "               Name   Age           City   Join_Date     Salary  Gender\n",
       "0  Savannah Patrick  21.0  san francisco  2024-02-04  9999999.0    Male\n",
       "1    Jessica Ramsey  32.0             SF  15/03/2022  9999999.0  Female\n",
       "2       Jacob White  70.0             LA  2019-11-03  2000000.0  female\n",
       "3        Erik Ortiz  62.0  San Francisco  2020-06-14       10.0    male\n",
       "4      Tonya Dudley  42.0             LA  2023-07-21  2000000.0  Female"
      ]
     },
     "execution_count": 12,
     "metadata": {},
     "output_type": "execute_result"
    }
   ],
   "source": [
    "df.head()"
   ]
  },
  {
   "cell_type": "markdown",
   "metadata": {},
   "source": [
    "**Step 4: Fix Inconsistent Data**\n",
    "- Inconsistent data happens when the same information is represented in different ways (e.g., \"male\", \"Male\", \"Mmale\").\n",
    "\n",
    "A. Clean Gender Column\n",
    "- You can fix the gender column by standardizing it to either \"Male\" or \"Female\"."
   ]
  },
  {
   "cell_type": "code",
   "execution_count": 13,
   "metadata": {},
   "outputs": [],
   "source": [
    "# Convert everything to lowercase\n",
    "df['Gender'] = df['Gender'].str.lower()"
   ]
  },
  {
   "cell_type": "code",
   "execution_count": 14,
   "metadata": {},
   "outputs": [],
   "source": [
    "# Replace typos and fix the values\n",
    "df['Gender'] = df['Gender'].replace({\n",
    "    'mmale': 'male',\n",
    "    'femle': 'female',\n",
    "    'femlae': 'female'\n",
    "})\n",
    "\n",
    "# Fill any remaining missing values with 'unknown'\n",
    "df['Gender'] = df['Gender'].fillna('unknown')"
   ]
  },
  {
   "cell_type": "markdown",
   "metadata": {},
   "source": [
    "B. Clean City Column\n",
    "- Inconsistent city names (e.g., \"New York\", \"new york\", \"LA\") should be standardized."
   ]
  },
  {
   "cell_type": "code",
   "execution_count": 15,
   "metadata": {},
   "outputs": [],
   "source": [
    "# Standardize city names\n",
    "city_replacements = {\n",
    "    'new york': 'New York',\n",
    "    'LA': 'Los Angeles',\n",
    "    'SF': 'San Francisco',\n",
    "    'Los Angele': 'Los Angeles',\n",
    "    'san francisco': 'San Francisco'\n",
    "}\n",
    "\n",
    "df['City'] = df['City'].replace(city_replacements)"
   ]
  },
  {
   "cell_type": "markdown",
   "metadata": {},
   "source": [
    "**Step 5: Handle Outliers**\n",
    "- Outliers are extreme values that don't make sense. Let's handle the extreme salary values.\n",
    "\n",
    "A. Salary Column (Outliers)\n",
    "- Look for very high or very low salaries, and remove or cap them."
   ]
  },
  {
   "cell_type": "code",
   "execution_count": 16,
   "metadata": {},
   "outputs": [],
   "source": [
    "# Define the reasonable range for salaries\n",
    "df = df[df['Salary'] > 20000]  # Remove unrealistic low salaries\n",
    "df = df[df['Salary'] < 200000]  # Remove unrealistic high salaries"
   ]
  },
  {
   "cell_type": "markdown",
   "metadata": {},
   "source": [
    "**Step 6: Parse Dates**\n",
    "- Dates in the Join_Date column may have different formats, so let's convert them to a consistent datetime format."
   ]
  },
  {
   "cell_type": "code",
   "execution_count": 17,
   "metadata": {},
   "outputs": [],
   "source": [
    "# Convert the 'Join_Date' column to datetime format\n",
    "df['Join_Date'] = pd.to_datetime(df['Join_Date'], errors='coerce')"
   ]
  },
  {
   "cell_type": "code",
   "execution_count": 18,
   "metadata": {},
   "outputs": [
    {
     "name": "stdout",
     "output_type": "stream",
     "text": [
      "88\n"
     ]
    }
   ],
   "source": [
    "# Check if any invalid dates were converted to NaT (Not a Time)\n",
    "print(df['Join_Date'].isnull().sum())"
   ]
  },
  {
   "cell_type": "code",
   "execution_count": 19,
   "metadata": {},
   "outputs": [],
   "source": [
    "# Fill any remaining NaT values with a default date\n",
    "df['Join_Date'] = df['Join_Date'].fillna(pd.to_datetime('2000-01-01'))"
   ]
  },
  {
   "cell_type": "markdown",
   "metadata": {},
   "source": [
    "**Step 7: Remove Duplicates**\n",
    "- You might have some duplicated rows in the dataset. Let's remove them."
   ]
  },
  {
   "cell_type": "code",
   "execution_count": 25,
   "metadata": {},
   "outputs": [
    {
     "name": "stdout",
     "output_type": "stream",
     "text": [
      "Total number of duplicated rows: 5\n"
     ]
    }
   ],
   "source": [
    "# Check for duplicated rows and count them\n",
    "is_duplicated = df.duplicated().sum()\n",
    "\n",
    "print(f'Total number of duplicated rows: {is_duplicated}')"
   ]
  },
  {
   "cell_type": "code",
   "execution_count": 26,
   "metadata": {},
   "outputs": [],
   "source": [
    "# Remove duplicate rows\n",
    "df = df.drop_duplicates()"
   ]
  },
  {
   "cell_type": "markdown",
   "metadata": {},
   "source": [
    "**Step 9: Inspect the Cleaned Data**\n",
    "- Finally, inspect the cleaned dataset to make sure everything looks correct."
   ]
  },
  {
   "cell_type": "code",
   "execution_count": 28,
   "metadata": {},
   "outputs": [
    {
     "name": "stdout",
     "output_type": "stream",
     "text": [
      "<class 'pandas.core.frame.DataFrame'>\n",
      "Index: 532 entries, 5 to 10073\n",
      "Data columns (total 6 columns):\n",
      " #   Column     Non-Null Count  Dtype         \n",
      "---  ------     --------------  -----         \n",
      " 0   Name       532 non-null    object        \n",
      " 1   Age        532 non-null    float64       \n",
      " 2   City       532 non-null    object        \n",
      " 3   Join_Date  532 non-null    datetime64[ns]\n",
      " 4   Salary     532 non-null    float64       \n",
      " 5   Gender     532 non-null    object        \n",
      "dtypes: datetime64[ns](1), float64(2), object(3)\n",
      "memory usage: 29.1+ KB\n"
     ]
    }
   ],
   "source": [
    "# Check the structure and summary of the cleaned dataset\n",
    "df.info()"
   ]
  },
  {
   "cell_type": "code",
   "execution_count": 29,
   "metadata": {},
   "outputs": [
    {
     "name": "stdout",
     "output_type": "stream",
     "text": [
      "                Name   Age           City  Join_Date         Salary   Gender\n",
      "5    Danielle Ingram  56.0       New York 2020-08-21  173314.071782   female\n",
      "29    Amanda Hendrix  18.0    Los Angeles 2021-06-07   81495.406548     male\n",
      "73     Jacob Gardner  20.0       New York 2022-02-13   55726.338826  unknown\n",
      "108       Mark Ochoa  29.0  San Francisco 2024-01-11  199014.301988  unknown\n",
      "117     Carlos Bauer  51.0  San Francisco 2022-09-19   76552.655846   female\n"
     ]
    }
   ],
   "source": [
    "# Display the first few rows of the cleaned data\n",
    "print(df.head())"
   ]
  },
  {
   "cell_type": "code",
   "execution_count": 30,
   "metadata": {},
   "outputs": [
    {
     "name": "stdout",
     "output_type": "stream",
     "text": [
      "Name         0\n",
      "Age          0\n",
      "City         0\n",
      "Join_Date    0\n",
      "Salary       0\n",
      "Gender       0\n",
      "dtype: int64\n"
     ]
    }
   ],
   "source": [
    "# Check for any missing values in each column\n",
    "print(df.isnull().sum())"
   ]
  },
  {
   "cell_type": "code",
   "execution_count": 31,
   "metadata": {},
   "outputs": [
    {
     "name": "stdout",
     "output_type": "stream",
     "text": [
      "Total number of duplicated rows: 0\n"
     ]
    }
   ],
   "source": [
    "# Check for duplicated rows and count them\n",
    "is_duplicated = df.duplicated().sum()\n",
    "\n",
    "print(f'Total number of duplicated rows: {is_duplicated}')"
   ]
  },
  {
   "cell_type": "code",
   "execution_count": 32,
   "metadata": {},
   "outputs": [
    {
     "data": {
      "text/html": [
       "<div>\n",
       "<style scoped>\n",
       "    .dataframe tbody tr th:only-of-type {\n",
       "        vertical-align: middle;\n",
       "    }\n",
       "\n",
       "    .dataframe tbody tr th {\n",
       "        vertical-align: top;\n",
       "    }\n",
       "\n",
       "    .dataframe thead th {\n",
       "        text-align: right;\n",
       "    }\n",
       "</style>\n",
       "<table border=\"1\" class=\"dataframe\">\n",
       "  <thead>\n",
       "    <tr style=\"text-align: right;\">\n",
       "      <th></th>\n",
       "      <th>Name</th>\n",
       "      <th>Age</th>\n",
       "      <th>City</th>\n",
       "      <th>Join_Date</th>\n",
       "      <th>Salary</th>\n",
       "      <th>Gender</th>\n",
       "    </tr>\n",
       "  </thead>\n",
       "  <tbody>\n",
       "    <tr>\n",
       "      <th>5</th>\n",
       "      <td>Danielle Ingram</td>\n",
       "      <td>56.0</td>\n",
       "      <td>New York</td>\n",
       "      <td>2020-08-21</td>\n",
       "      <td>173314.071782</td>\n",
       "      <td>female</td>\n",
       "    </tr>\n",
       "    <tr>\n",
       "      <th>29</th>\n",
       "      <td>Amanda Hendrix</td>\n",
       "      <td>18.0</td>\n",
       "      <td>Los Angeles</td>\n",
       "      <td>2021-06-07</td>\n",
       "      <td>81495.406548</td>\n",
       "      <td>male</td>\n",
       "    </tr>\n",
       "    <tr>\n",
       "      <th>73</th>\n",
       "      <td>Jacob Gardner</td>\n",
       "      <td>20.0</td>\n",
       "      <td>New York</td>\n",
       "      <td>2022-02-13</td>\n",
       "      <td>55726.338826</td>\n",
       "      <td>unknown</td>\n",
       "    </tr>\n",
       "    <tr>\n",
       "      <th>108</th>\n",
       "      <td>Mark Ochoa</td>\n",
       "      <td>29.0</td>\n",
       "      <td>San Francisco</td>\n",
       "      <td>2024-01-11</td>\n",
       "      <td>199014.301988</td>\n",
       "      <td>unknown</td>\n",
       "    </tr>\n",
       "    <tr>\n",
       "      <th>117</th>\n",
       "      <td>Carlos Bauer</td>\n",
       "      <td>51.0</td>\n",
       "      <td>San Francisco</td>\n",
       "      <td>2022-09-19</td>\n",
       "      <td>76552.655846</td>\n",
       "      <td>female</td>\n",
       "    </tr>\n",
       "  </tbody>\n",
       "</table>\n",
       "</div>"
      ],
      "text/plain": [
       "                Name   Age           City  Join_Date         Salary   Gender\n",
       "5    Danielle Ingram  56.0       New York 2020-08-21  173314.071782   female\n",
       "29    Amanda Hendrix  18.0    Los Angeles 2021-06-07   81495.406548     male\n",
       "73     Jacob Gardner  20.0       New York 2022-02-13   55726.338826  unknown\n",
       "108       Mark Ochoa  29.0  San Francisco 2024-01-11  199014.301988  unknown\n",
       "117     Carlos Bauer  51.0  San Francisco 2022-09-19   76552.655846   female"
      ]
     },
     "execution_count": 32,
     "metadata": {},
     "output_type": "execute_result"
    }
   ],
   "source": [
    "df.head()"
   ]
  },
  {
   "cell_type": "markdown",
   "metadata": {},
   "source": [
    "**Bonus: Save the Cleaned Data**\n",
    "- You can save the cleaned data to a new CSV file."
   ]
  },
  {
   "cell_type": "code",
   "execution_count": 38,
   "metadata": {},
   "outputs": [],
   "source": [
    "# Save the cleaned data\n",
    "df.to_csv('cleaned_data.csv', index=False)"
   ]
  }
 ],
 "metadata": {
  "kernelspec": {
   "display_name": "Python 3 (ipykernel)",
   "language": "python",
   "name": "python3"
  },
  "language_info": {
   "codemirror_mode": {
    "name": "ipython",
    "version": 3
   },
   "file_extension": ".py",
   "mimetype": "text/x-python",
   "name": "python",
   "nbconvert_exporter": "python",
   "pygments_lexer": "ipython3",
   "version": "3.11.9"
  }
 },
 "nbformat": 4,
 "nbformat_minor": 4
}
