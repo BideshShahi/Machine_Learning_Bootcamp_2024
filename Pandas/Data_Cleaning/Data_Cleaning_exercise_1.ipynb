{
 "cells": [
  {
   "cell_type": "markdown",
   "metadata": {},
   "source": [
    "### **Updated Steps Overview**:\n",
    "1. **Load the data** into Pandas.\n",
    "2. **Inspect the data** using `.info()`, `.describe()`, and `.isnull().sum()`.\n",
    "3. **Check unique values** to find inconsistencies in categorical columns.\n",
    "4. **Handle missing values** by either dropping or filling them.\n",
    "5. **Fix inconsistent text data** (e.g., typos, capitalization).\n",
    "6. **Remove outliers** in numeric columns like `Salary`.\n",
    "7. **Standardize date formats** using `pd.to_datetime()`.\n",
    "8. **Remove duplicate rows** from the dataset.\n",
    "9. **Inspect the cleaned data** to verify the results."
   ]
  },
  {
   "cell_type": "markdown",
   "metadata": {},
   "source": []
  }
 ],
 "metadata": {
  "language_info": {
   "name": "python"
  }
 },
 "nbformat": 4,
 "nbformat_minor": 2
}
