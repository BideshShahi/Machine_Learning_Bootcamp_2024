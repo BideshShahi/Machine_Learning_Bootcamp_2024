{
 "cells": [
  {
   "cell_type": "markdown",
   "metadata": {},
   "source": [
    "### **Summary of Cleaning Steps**:\n",
    "1. **Load the data** into Pandas.\n",
    "2. **Inspect the data** for structure, summary statistics, and missing values.\n",
    "3. **Check unique values** to spot inconsistencies in categorical columns.\n",
    "4. **Handle missing values** by filling or dropping them.\n",
    "5. **Fix inconsistent text data** by standardizing and correcting typos.\n",
    "6. **Remove outliers** from the numeric columns like `Salary`.\n",
    "7. **Standardize date formats** to ensure all dates are in the same format.\n",
    "8. **Remove duplicate rows** from the dataset.\n",
    "9. **Inspect the cleaned data** to verify your cleaning process was successful."
   ]
  }
 ],
 "metadata": {
  "language_info": {
   "name": "python"
  }
 },
 "nbformat": 4,
 "nbformat_minor": 2
}
